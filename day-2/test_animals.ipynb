{
 "cells": [
  {
   "cell_type": "code",
   "execution_count": 13,
   "id": "83ed4b49",
   "metadata": {},
   "outputs": [],
   "source": [
    "#Test script"
   ]
  },
  {
   "cell_type": "code",
   "execution_count": 14,
   "id": "51a8108f",
   "metadata": {},
   "outputs": [],
   "source": [
    "# Import classes from your brand new package"
   ]
  },
  {
   "cell_type": "code",
   "execution_count": 15,
   "id": "3d7a61a7",
   "metadata": {},
   "outputs": [],
   "source": [
    "from animals import Mammals\n",
    "from animals import Birds"
   ]
  },
  {
   "cell_type": "code",
   "execution_count": 16,
   "id": "ec958fd2",
   "metadata": {},
   "outputs": [],
   "source": [
    "# Create an object of Mammals class & call a method of it"
   ]
  },
  {
   "cell_type": "code",
   "execution_count": 17,
   "id": "2b2e38ea",
   "metadata": {},
   "outputs": [
    {
     "name": "stdout",
     "output_type": "stream",
     "text": [
      "Printing members of the >Birds class\n",
      "\tTiger \n",
      "\tElephant \n",
      "\tWild cat \n"
     ]
    }
   ],
   "source": [
    "myMammal = Mammals()\n",
    "myMammal.printMembers()"
   ]
  },
  {
   "cell_type": "code",
   "execution_count": 18,
   "id": "8d3c1a44",
   "metadata": {},
   "outputs": [],
   "source": [
    "# Create an object of Birds class & call a method of it"
   ]
  },
  {
   "cell_type": "code",
   "execution_count": 19,
   "id": "f06c854b",
   "metadata": {},
   "outputs": [
    {
     "name": "stdout",
     "output_type": "stream",
     "text": [
      "Printing members of the >Birds class\n",
      "\tSparrow \n",
      "\tRobin \n",
      "\tDuck \n"
     ]
    }
   ],
   "source": [
    "myBird = Birds()\n",
    "myBird.printMembers()"
   ]
  },
  {
   "cell_type": "code",
   "execution_count": null,
   "id": "ba4a9b52",
   "metadata": {},
   "outputs": [],
   "source": []
  }
 ],
 "metadata": {
  "kernelspec": {
   "display_name": "Python 3 (ipykernel)",
   "language": "python",
   "name": "python3"
  },
  "language_info": {
   "codemirror_mode": {
    "name": "ipython",
    "version": 3
   },
   "file_extension": ".py",
   "mimetype": "text/x-python",
   "name": "python",
   "nbconvert_exporter": "python",
   "pygments_lexer": "ipython3",
   "version": "3.9.13"
  }
 },
 "nbformat": 4,
 "nbformat_minor": 5
}
