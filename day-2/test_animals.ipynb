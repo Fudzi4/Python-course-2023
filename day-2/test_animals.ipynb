{
 "cells": [
  {
   "cell_type": "code",
   "execution_count": 18,
   "id": "83ed4b49",
   "metadata": {},
   "outputs": [],
   "source": [
    "#Test script"
   ]
  },
  {
   "cell_type": "code",
   "execution_count": 19,
   "id": "ba4a9b52",
   "metadata": {},
   "outputs": [],
   "source": [
    "import animals"
   ]
  },
  {
   "cell_type": "code",
   "execution_count": 20,
   "id": "d0291984",
   "metadata": {},
   "outputs": [
    {
     "name": "stdout",
     "output_type": "stream",
     "text": [
      "Harmless birds\n",
      "\tSparrow \n",
      "\tFinch \n",
      "\tGoose \n"
     ]
    }
   ],
   "source": [
    "harmless_birds = animals.harmless.Birds()\n",
    "harmless_birds.printMembers()"
   ]
  },
  {
   "cell_type": "code",
   "execution_count": 21,
   "id": "ebf79278",
   "metadata": {},
   "outputs": [
    {
     "name": "stdout",
     "output_type": "stream",
     "text": [
      "Dangerous fish\n",
      "\tPike \n",
      "\tShark \n",
      "\tSalmon \n"
     ]
    }
   ],
   "source": [
    "dangerous_fish = animals.dangerous.Fish()\n",
    "dangerous_fish.printMembers()"
   ]
  },
  {
   "cell_type": "code",
   "execution_count": null,
   "id": "39bb5061",
   "metadata": {},
   "outputs": [],
   "source": []
  }
 ],
 "metadata": {
  "kernelspec": {
   "display_name": "Python 3 (ipykernel)",
   "language": "python",
   "name": "python3"
  },
  "language_info": {
   "codemirror_mode": {
    "name": "ipython",
    "version": 3
   },
   "file_extension": ".py",
   "mimetype": "text/x-python",
   "name": "python",
   "nbconvert_exporter": "python",
   "pygments_lexer": "ipython3",
   "version": "3.9.13"
  }
 },
 "nbformat": 4,
 "nbformat_minor": 5
}
