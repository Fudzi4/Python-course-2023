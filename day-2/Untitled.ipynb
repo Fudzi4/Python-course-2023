{
 "cells": [
  {
   "cell_type": "code",
   "execution_count": 13,
   "id": "924a1bb7",
   "metadata": {},
   "outputs": [],
   "source": [
    "#Test script"
   ]
  },
  {
   "cell_type": "code",
   "execution_count": 14,
   "id": "bc927b3f",
   "metadata": {},
   "outputs": [],
   "source": [
    "# Import classes from your brand new package"
   ]
  },
  {
   "cell_type": "code",
   "execution_count": 15,
   "id": "93a59726",
   "metadata": {},
   "outputs": [],
   "source": [
    "from animals import Mammals\n",
    "from animals import Birds"
   ]
  },
  {
   "cell_type": "code",
   "execution_count": 16,
   "id": "2c04904c",
   "metadata": {},
   "outputs": [],
   "source": [
    "# Create an object of Mammals class & call a method of it"
   ]
  },
  {
   "cell_type": "code",
   "execution_count": 17,
   "id": "5376e8c3",
   "metadata": {},
   "outputs": [
    {
     "name": "stdout",
     "output_type": "stream",
     "text": [
      "Printing members of the >Birds class\n",
      "\tTiger \n",
      "\tElephant \n",
      "\tWild cat \n"
     ]
    }
   ],
   "source": [
    "myMammal = Mammals()\n",
    "myMammal.printMembers()"
   ]
  },
  {
   "cell_type": "code",
   "execution_count": 18,
   "id": "9eb8130e",
   "metadata": {},
   "outputs": [],
   "source": [
    "# Create an object of Birds class & call a method of it"
   ]
  },
  {
   "cell_type": "code",
   "execution_count": 19,
   "id": "883c530f",
   "metadata": {},
   "outputs": [
    {
     "name": "stdout",
     "output_type": "stream",
     "text": [
      "Printing members of the >Birds class\n",
      "\tSparrow \n",
      "\tRobin \n",
      "\tDuck \n"
     ]
    }
   ],
   "source": [
    "myBird = Birds()\n",
    "myBird.printMembers()"
   ]
  },
  {
   "cell_type": "code",
   "execution_count": null,
   "id": "51ac7f66",
   "metadata": {},
   "outputs": [],
   "source": []
  }
 ],
 "metadata": {
  "kernelspec": {
   "display_name": "Python 3 (ipykernel)",
   "language": "python",
   "name": "python3"
  },
  "language_info": {
   "codemirror_mode": {
    "name": "ipython",
    "version": 3
   },
   "file_extension": ".py",
   "mimetype": "text/x-python",
   "name": "python",
   "nbconvert_exporter": "python",
   "pygments_lexer": "ipython3",
   "version": "3.9.13"
  }
 },
 "nbformat": 4,
 "nbformat_minor": 5
}
