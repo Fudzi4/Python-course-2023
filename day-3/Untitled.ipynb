{
 "cells": [
  {
   "cell_type": "code",
   "execution_count": 10,
   "id": "8ab50b53",
   "metadata": {},
   "outputs": [],
   "source": [
    "#Numpy Exercises for day-3\n",
    "\n",
    "\n",
    "\n"
   ]
  },
  {
   "cell_type": "code",
   "execution_count": 11,
   "id": "92cecc8f",
   "metadata": {},
   "outputs": [],
   "source": [
    "import numpy as np"
   ]
  },
  {
   "cell_type": "code",
   "execution_count": 12,
   "id": "cdf9561f",
   "metadata": {},
   "outputs": [],
   "source": [
    "#a. Create a null vector of size 10 but the fifth value which is 1"
   ]
  },
  {
   "cell_type": "code",
   "execution_count": 55,
   "id": "f24d9ac9",
   "metadata": {},
   "outputs": [
    {
     "name": "stdout",
     "output_type": "stream",
     "text": [
      "a equals to  [0. 0. 0. 0. 0. 1. 0. 0. 0. 0.]\n",
      "b equals to  [0 0 0 0 0 1 0 0 0 0]\n"
     ]
    }
   ],
   "source": [
    "a = np.zeros(10)\n",
    "a[5]=1\n",
    "print ('a equals to ',a)\n",
    "\n",
    "b = np.array([0,0,0,0,0,1,0,0,0,0])\n",
    "print ('b equals to ',b)"
   ]
  },
  {
   "cell_type": "code",
   "execution_count": 80,
   "id": "6ccc08fa",
   "metadata": {},
   "outputs": [
    {
     "data": {
      "text/plain": [
       "array([10, 11, 12, 13, 14, 15, 16, 17, 18, 19, 20, 21, 22, 23, 24, 25, 26,\n",
       "       27, 28, 29, 30, 31, 32, 33, 34, 35, 36, 37, 38, 39, 40, 41, 42, 43,\n",
       "       44, 45, 46, 47, 48, 49])"
      ]
     },
     "execution_count": 80,
     "metadata": {},
     "output_type": "execute_result"
    }
   ],
   "source": [
    "b_question=np.arange(10,50,)\n",
    "b_question"
   ]
  },
  {
   "cell_type": "code",
   "execution_count": null,
   "id": "a7da03c3",
   "metadata": {},
   "outputs": [],
   "source": []
  }
 ],
 "metadata": {
  "kernelspec": {
   "display_name": "Python 3 (ipykernel)",
   "language": "python",
   "name": "python3"
  },
  "language_info": {
   "codemirror_mode": {
    "name": "ipython",
    "version": 3
   },
   "file_extension": ".py",
   "mimetype": "text/x-python",
   "name": "python",
   "nbconvert_exporter": "python",
   "pygments_lexer": "ipython3",
   "version": "3.9.13"
  }
 },
 "nbformat": 4,
 "nbformat_minor": 5
}
