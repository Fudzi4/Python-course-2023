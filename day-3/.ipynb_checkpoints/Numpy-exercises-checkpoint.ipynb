{
 "cells": [
  {
   "cell_type": "code",
   "execution_count": 10,
   "id": "64e19f79",
   "metadata": {},
   "outputs": [],
   "source": [
    "#Numpy Exercises for day-3\n",
    "\n",
    "\n",
    "\n"
   ]
  },
  {
   "cell_type": "code",
   "execution_count": 11,
   "id": "72a56765",
   "metadata": {},
   "outputs": [],
   "source": [
    "import numpy as np"
   ]
  },
  {
   "cell_type": "code",
   "execution_count": 12,
   "id": "70817f9a",
   "metadata": {},
   "outputs": [],
   "source": [
    "#a. Create a null vector of size 10 but the fifth value which is 1"
   ]
  },
  {
   "cell_type": "code",
   "execution_count": 86,
   "id": "59440776",
   "metadata": {},
   "outputs": [
    {
     "name": "stdout",
     "output_type": "stream",
     "text": [
      "a_1 equals to  [0. 0. 0. 0. 0. 1. 0. 0. 0. 0.]\n",
      "a_2 equals to  [0 0 0 0 0 1 0 0 0 0]\n"
     ]
    }
   ],
   "source": [
    "a_1 = np.zeros(10)\n",
    "a_1[5]=1\n",
    "print ('a_1 equals to ',a_1)\n",
    "\n",
    "a_2 = np.array([0,0,0,0,0,1,0,0,0,0])\n",
    "print ('a_2 equals to ',a_2)"
   ]
  },
  {
   "cell_type": "code",
   "execution_count": null,
   "id": "eff09cc7",
   "metadata": {},
   "outputs": [],
   "source": [
    "#b. Create a vector with values ranging from 10 to 49"
   ]
  },
  {
   "cell_type": "code",
   "execution_count": 94,
   "id": "f7680275",
   "metadata": {},
   "outputs": [
    {
     "name": "stdout",
     "output_type": "stream",
     "text": [
      "[10 11 12 13 14 15 16 17 18 19 20 21 22 23 24 25 26 27 28 29 30 31 32 33\n",
      " 34 35 36 37 38 39 40 41 42 43 44 45 46 47 48 49]\n"
     ]
    }
   ],
   "source": [
    "b=np.arange(10,50,)\n",
    "print(b)"
   ]
  },
  {
   "cell_type": "code",
   "execution_count": 95,
   "id": "8403f5a4",
   "metadata": {},
   "outputs": [],
   "source": [
    "#c. Reverse a vector (first element becomes last)"
   ]
  },
  {
   "cell_type": "code",
   "execution_count": 96,
   "id": "05895b68",
   "metadata": {},
   "outputs": [
    {
     "name": "stdout",
     "output_type": "stream",
     "text": [
      "[49 48 47 46 45 44 43 42 41 40 39 38 37 36 35 34 33 32 31 30 29 28 27 26\n",
      " 25 24 23 22 21 20 19 18 17 16 15 14 13 12 11 10]\n"
     ]
    }
   ],
   "source": [
    "c = b[::-1]\n",
    "print(c)"
   ]
  },
  {
   "cell_type": "code",
   "execution_count": 97,
   "id": "4c594821",
   "metadata": {},
   "outputs": [],
   "source": [
    "#d. Create a 3x3 matrix with values ranging from 0 to 8"
   ]
  },
  {
   "cell_type": "code",
   "execution_count": 98,
   "id": "dc216c51",
   "metadata": {},
   "outputs": [
    {
     "name": "stdout",
     "output_type": "stream",
     "text": [
      "[[0 1 2]\n",
      " [3 4 5]\n",
      " [6 7 8]]\n"
     ]
    }
   ],
   "source": [
    "d=np.arange (9).reshape(3,3)\n",
    "print (d)"
   ]
  },
  {
   "cell_type": "code",
   "execution_count": 99,
   "id": "f7eccbe1",
   "metadata": {},
   "outputs": [],
   "source": [
    "#e. Find indices of non-zero elements from [1,2,0,0,4,0]"
   ]
  },
  {
   "cell_type": "code",
   "execution_count": 112,
   "id": "e7e21d79",
   "metadata": {},
   "outputs": [
    {
     "name": "stdout",
     "output_type": "stream",
     "text": [
      "e equals to  [1 2 0 0 4 0]\n",
      "non-zero indeces of e equals to  (array([0, 1, 4], dtype=int64),)\n"
     ]
    }
   ],
   "source": [
    "e = np.array([1,2,0,0,4,0])\n",
    "print ('e equals to ',e)\n",
    "\n",
    "print('non-zero indeces of e equals to ',np.nonzero(e))"
   ]
  },
  {
   "cell_type": "code",
   "execution_count": null,
   "id": "90b087bf",
   "metadata": {},
   "outputs": [],
   "source": []
  }
 ],
 "metadata": {
  "kernelspec": {
   "display_name": "Python 3 (ipykernel)",
   "language": "python",
   "name": "python3"
  },
  "language_info": {
   "codemirror_mode": {
    "name": "ipython",
    "version": 3
   },
   "file_extension": ".py",
   "mimetype": "text/x-python",
   "name": "python",
   "nbconvert_exporter": "python",
   "pygments_lexer": "ipython3",
   "version": "3.9.13"
  }
 },
 "nbformat": 4,
 "nbformat_minor": 5
}
